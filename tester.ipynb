{
 "cells": [
  {
   "cell_type": "code",
   "execution_count": 38,
   "metadata": {},
   "outputs": [],
   "source": [
    "import re, pandas as pd, os"
   ]
  },
  {
   "cell_type": "code",
   "execution_count": 3,
   "metadata": {},
   "outputs": [],
   "source": [
    "with open('6_Congress/Text/Edited/6_Congress_p10.txt') as f:\n",
    "    garbanzo = f.read()"
   ]
  },
  {
   "cell_type": "code",
   "execution_count": 4,
   "metadata": {},
   "outputs": [],
   "source": [
    "date = re.compile(r'\\b(?:Jan|Feb|Mar(?:ch)|Apr|May|Jun|Jul|Aug|Sep|Oct|Nov|Dec)\\S*\\.? \\d{1,2}\\b|n\\.d\\.')\n",
    "dates = re.findall(date, garbanzo)\n"
   ]
  },
  {
   "cell_type": "code",
   "execution_count": 6,
   "metadata": {},
   "outputs": [
    {
     "data": {
      "text/plain": [
       "['March 11',\n",
       " 'March 12',\n",
       " 'March 12',\n",
       " 'March 12',\n",
       " 'March 13',\n",
       " 'March 14',\n",
       " 'March 17',\n",
       " 'March 17']"
      ]
     },
     "execution_count": 6,
     "metadata": {},
     "output_type": "execute_result"
    }
   ],
   "source": [
    "dates"
   ]
  },
  {
   "cell_type": "code",
   "execution_count": null,
   "metadata": {},
   "outputs": [
    {
     "name": "stdout",
     "output_type": "stream",
     "text": [
      "it has years\n",
      "it has years\n",
      "it has years\n",
      "it has years\n"
     ]
    },
    {
     "data": {
      "text/plain": [
       "['1800',\n",
       " '1800',\n",
       " '1800',\n",
       " '1800',\n",
       " '1800',\n",
       " '1800',\n",
       " '1800',\n",
       " '1800',\n",
       " '1800',\n",
       " '1800',\n",
       " '1800',\n",
       " '1800',\n",
       " '1801',\n",
       " '1801',\n",
       " '1801',\n",
       " '1801']"
      ]
     },
     "execution_count": 37,
     "metadata": {},
     "output_type": "execute_result"
    }
   ],
   "source": [
    "texts = os.listdir('6_Congress/Text/Edited')\n",
    "for txt in texts:\n",
    "  pg = txt[12:-4]\n",
    "  congress = txt[0]\n",
    "pg_years = pd.read_csv('6_Congress/pg_years.csv')\n",
    "congress = 6\n",
    "years = []\n",
    "for pg in pg_years['pg']:\n",
    "    yr = pg_years[(pg_years['congress'] == congress) & (pg_years['pg'] == pg)]['year'].item()\n",
    "    if yr == 'y':\n",
    "        print('it has years')\n",
    "    else:\n",
    "        years += [yr]\n",
    "years"
   ]
  },
  {
   "cell_type": "code",
   "execution_count": null,
   "metadata": {},
   "outputs": [
    {
     "data": {
      "text/plain": [
       "'1800'"
      ]
     },
     "execution_count": 34,
     "metadata": {},
     "output_type": "execute_result"
    }
   ],
   "source": [
    "a = \n",
    "a"
   ]
  },
  {
   "cell_type": "code",
   "execution_count": null,
   "metadata": {},
   "outputs": [],
   "source": []
  }
 ],
 "metadata": {
  "kernelspec": {
   "display_name": "Python 3",
   "language": "python",
   "name": "python3"
  },
  "language_info": {
   "codemirror_mode": {
    "name": "ipython",
    "version": 3
   },
   "file_extension": ".py",
   "mimetype": "text/x-python",
   "name": "python",
   "nbconvert_exporter": "python",
   "pygments_lexer": "ipython3",
   "version": "3.13.0"
  }
 },
 "nbformat": 4,
 "nbformat_minor": 2
}
